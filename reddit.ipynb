{
  "cells": [
    {
      "cell_type": "code",
      "execution_count": null,
      "metadata": {
        "id": "Png9XEDdN2hR"
      },
      "outputs": [],
      "source": [
        "folder_path = '/content/drive/MyDrive/College/NLP'"
      ]
    },
    {
      "cell_type": "markdown",
      "source": [
        "# Approaches followed\n",
        "\n",
        "## Feature Extractions\n",
        "\n",
        "- Unigram\n",
        "- Bigrams\n",
        "- Bigrams + LIWC(Empath Library) [Final]\n",
        "\n",
        "## Models Used\n",
        "\n",
        "- MLP\n",
        "- SVM\n",
        "- LSTM"
      ],
      "metadata": {
        "id": "V0d0I47hviGh"
      }
    },
    {
      "cell_type": "code",
      "execution_count": null,
      "metadata": {
        "id": "R-fRIx9gMSLr"
      },
      "outputs": [],
      "source": [
        "import os\n",
        "import glob\n",
        "\n",
        "folders = glob.glob(os.path.join(folder_path, '*'))"
      ]
    },
    {
      "cell_type": "code",
      "execution_count": null,
      "metadata": {
        "colab": {
          "base_uri": "https://localhost:8080/"
        },
        "id": "uoi9LZ08MmL0",
        "outputId": "3ea9085b-e3a6-436f-f8e8-e93982f120c4"
      },
      "outputs": [
        {
          "output_type": "execute_result",
          "data": {
            "text/plain": [
              "['/content/drive/MyDrive/College/NLP/mixed_depression',\n",
              " '/content/drive/MyDrive/College/NLP/blogs_non_depression',\n",
              " '/content/drive/MyDrive/College/NLP/blogs_depression',\n",
              " '/content/drive/MyDrive/College/NLP/mixed_non_depression',\n",
              " '/content/drive/MyDrive/College/NLP/reddit_non_depression',\n",
              " '/content/drive/MyDrive/College/NLP/reddit_depression']"
            ]
          },
          "metadata": {},
          "execution_count": 3
        }
      ],
      "source": [
        "folders"
      ]
    },
    {
      "cell_type": "code",
      "execution_count": null,
      "metadata": {
        "id": "vzjoRtFTPXOb"
      },
      "outputs": [],
      "source": [
        "X_train, y_train = [],[]"
      ]
    },
    {
      "cell_type": "code",
      "execution_count": null,
      "metadata": {
        "id": "1LSSXWGsMUv3"
      },
      "outputs": [],
      "source": [
        "from sklearn.feature_extraction.text import TfidfVectorizer\n",
        "\n",
        "# Create a TF-IDF vectorizer\n",
        "tfidf_vectorizer = TfidfVectorizer(ngram_range=(2,2),max_features=100)"
      ]
    },
    {
      "cell_type": "code",
      "execution_count": null,
      "metadata": {
        "id": "A-QW7fCjplVv"
      },
      "outputs": [],
      "source": [
        "import re\n",
        "\n",
        "def preprocess(text):\n",
        "  text = re.sub(r'\\n+', ' ', text)\n",
        "  text = re.sub(r'\\.{2,}', ' ', text)\n",
        "\n",
        "  # Remove other punctuation and non-alphanumeric characters\n",
        "  text = re.sub(r'[^A-Za-z0-9\\s]+', '', text)\n",
        "\n",
        "  # Remove leading and trailing spaces\n",
        "  text = text.strip()\n",
        "\n",
        "  text = re.sub(r'\\s+', ' ', text)\n",
        "\n",
        "  return text"
      ]
    },
    {
      "cell_type": "code",
      "execution_count": null,
      "metadata": {
        "colab": {
          "base_uri": "https://localhost:8080/"
        },
        "id": "tv8j8qwaNPN8",
        "outputId": "7ed2f27c-6f48-491a-c309-ad3baaf146e7"
      },
      "outputs": [
        {
          "output_type": "stream",
          "name": "stdout",
          "text": [
            "An error occurred while reading /content/drive/MyDrive/College/NLP/mixed_depression/greg_e_1_b_1_can.txt: 'utf-8' codec can't decode byte 0x96 in position 153: invalid start byte\n",
            "An error occurred while reading /content/drive/MyDrive/College/NLP/mixed_depression/beenbroken_e_1_b_1_UK.txt: 'utf-8' codec can't decode byte 0x85 in position 198: invalid start byte\n",
            "An error occurred while reading /content/drive/MyDrive/College/NLP/mixed_depression/justin_e_1_b_1_us.txt: 'utf-8' codec can't decode byte 0x85 in position 808: invalid start byte\n",
            "An error occurred while reading /content/drive/MyDrive/College/NLP/mixed_depression/blugh_e_2_b_1_xx.txt: 'utf-8' codec can't decode byte 0xd5 in position 1776: invalid continuation byte\n",
            "An error occurred while reading /content/drive/MyDrive/College/NLP/mixed_depression/krwingwthyou_e_2_a_1_us.txt: 'utf-8' codec can't decode byte 0xe9 in position 121: invalid continuation byte\n",
            "An error occurred while reading /content/drive/MyDrive/College/NLP/mixed_depression/Janet_e_2_a_1_us.txt: 'utf-8' codec can't decode byte 0x93 in position 228: invalid start byte\n",
            "An error occurred while reading /content/drive/MyDrive/College/NLP/mixed_depression/laura_e_2_a_1_no.txt: 'utf-8' codec can't decode byte 0x93 in position 238: invalid start byte\n",
            "An error occurred while reading /content/drive/MyDrive/College/NLP/mixed_depression/mo_e_1_b_1_au.txt: 'utf-8' codec can't decode byte 0xa3 in position 111: invalid start byte\n",
            "done\n",
            "done\n",
            "done\n",
            "done\n",
            "done\n",
            "done\n"
          ]
        }
      ],
      "source": [
        "corpus = []\n",
        "\n",
        "for folder in folders:\n",
        "  files =  glob.glob(os.path.join(folder, '*'))\n",
        "  for file_path in files:\n",
        "      try:\n",
        "          with open(file_path, 'r', encoding='utf-8') as file:\n",
        "\n",
        "              # Read the file contents, preprocess it by removing stopwords and only having lemmatized words\n",
        "\n",
        "              corpus.append(preprocess(\"\\n\".join(file.readlines())))\n",
        "\n",
        "              # Add the TF-IDF for each document in X_train and their respective label in y_train\n",
        "\n",
        "              if \"non_depression\" in folder:\n",
        "                y_train.append(\"N\")\n",
        "              else:\n",
        "                y_train.append(\"Y\")\n",
        "\n",
        "      except FileNotFoundError:\n",
        "          print(f\"The file '{file_path}' was not found.\")\n",
        "      except Exception as e:\n",
        "          print(f\"An error occurred while reading {file_path}: {str(e)}\")\n",
        "\n",
        "  print(\"done\")"
      ]
    },
    {
      "cell_type": "code",
      "source": [
        "corpus"
      ],
      "metadata": {
        "id": "lrQA8myBgz3z"
      },
      "execution_count": null,
      "outputs": []
    },
    {
      "cell_type": "code",
      "source": [
        "!pip install empath"
      ],
      "metadata": {
        "colab": {
          "base_uri": "https://localhost:8080/"
        },
        "id": "rVI3CijSPWzT",
        "outputId": "e6f55629-8ac0-41a5-ad0e-4576264ab6ff"
      },
      "execution_count": null,
      "outputs": [
        {
          "output_type": "stream",
          "name": "stdout",
          "text": [
            "Collecting empath\n",
            "  Downloading empath-0.89.tar.gz (57 kB)\n",
            "\u001b[2K     \u001b[90m━━━━━━━━━━━━━━━━━━━━━━━━━━━━━━━━━━━━━━━━\u001b[0m \u001b[32m57.6/57.6 kB\u001b[0m \u001b[31m2.3 MB/s\u001b[0m eta \u001b[36m0:00:00\u001b[0m\n",
            "\u001b[?25h  Preparing metadata (setup.py) ... \u001b[?25l\u001b[?25hdone\n",
            "Requirement already satisfied: requests in /usr/local/lib/python3.10/dist-packages (from empath) (2.31.0)\n",
            "Requirement already satisfied: charset-normalizer<4,>=2 in /usr/local/lib/python3.10/dist-packages (from requests->empath) (3.2.0)\n",
            "Requirement already satisfied: idna<4,>=2.5 in /usr/local/lib/python3.10/dist-packages (from requests->empath) (3.4)\n",
            "Requirement already satisfied: urllib3<3,>=1.21.1 in /usr/local/lib/python3.10/dist-packages (from requests->empath) (2.0.4)\n",
            "Requirement already satisfied: certifi>=2017.4.17 in /usr/local/lib/python3.10/dist-packages (from requests->empath) (2023.7.22)\n",
            "Building wheels for collected packages: empath\n",
            "  Building wheel for empath (setup.py) ... \u001b[?25l\u001b[?25hdone\n",
            "  Created wheel for empath: filename=empath-0.89-py3-none-any.whl size=57801 sha256=c0d488efe8308c80b7d503fafa62aa6a23682385588e194b4b814513896fb3d2\n",
            "  Stored in directory: /root/.cache/pip/wheels/92/b3/83/9eb2c6199881e2385a59d99bd911363475060ebeb4bdb27242\n",
            "Successfully built empath\n",
            "Installing collected packages: empath\n",
            "Successfully installed empath-0.89\n"
          ]
        }
      ]
    },
    {
      "cell_type": "code",
      "source": [
        "# LIWC method for analyzing the number of words in each concept related to depression vs non depression\n",
        "from empath import Empath\n",
        "lexicon = Empath()"
      ],
      "metadata": {
        "id": "URNUG5u5gbdn"
      },
      "execution_count": null,
      "outputs": []
    },
    {
      "cell_type": "code",
      "source": [
        "# Defining categories important related to depression vs non depression\n",
        "categories = [\"help\", \"violence\", \"valuable\", \"medical_emergency\", \"cold\", \"hate\", \"cheerfulness\", \"aggression\", \"envy\", \"crime\", \"dispute\", \"nervousness\", \"weakness\", \"swearing_terms\", \"suffering\", \"irritability\",\n",
        "              \"confusion\", \"death\", \"healing\", \"celebration\", \"neglect\", \"love\", \"sympathy\", \"trust\", \"deception\", \"fight\", \"disgust\", \"injury\", \"optimism\", \"warmth\", \"sadness\", \"emotional\",\n",
        "              \"joy\", \"affection\", \"shame\", \"torment\", \"breaking\", \"ugliness\", \"pain\", \"negative_emotion\", \"alcohol\", \"disappointment\", \"contentment\", \"positive_emotion\"]"
      ],
      "metadata": {
        "id": "U1eI9ZBjcgyo"
      },
      "execution_count": null,
      "outputs": []
    },
    {
      "cell_type": "code",
      "execution_count": null,
      "metadata": {
        "id": "BUR91d08hoUX"
      },
      "outputs": [],
      "source": [
        "import numpy as np\n",
        "\n",
        "# Combining both TF-IDF of top 100 features and LIWC for the related categories of depression\n",
        "\n",
        "X_train = np.concatenate((tfidf_vectorizer.fit_transform(corpus).toarray(), [list(lexicon.analyze(x).values()) for x in corpus]),axis=1)"
      ]
    },
    {
      "cell_type": "code",
      "execution_count": null,
      "metadata": {
        "colab": {
          "base_uri": "https://localhost:8080/"
        },
        "id": "4WWTnf2PlErM",
        "outputId": "81712a34-3d44-4b70-a537-684b78f17b85"
      },
      "outputs": [
        {
          "output_type": "execute_result",
          "data": {
            "text/plain": [
              "((4864, 294), 4864)"
            ]
          },
          "metadata": {},
          "execution_count": 105
        }
      ],
      "source": [
        "X_train.shape, len(y_train)"
      ]
    },
    {
      "cell_type": "code",
      "execution_count": null,
      "metadata": {
        "colab": {
          "base_uri": "https://localhost:8080/"
        },
        "id": "3VIC1R7mqN2C",
        "outputId": "c96f5615-b86b-4ecc-9a19-7e39e107f61c"
      },
      "outputs": [
        {
          "output_type": "execute_result",
          "data": {
            "text/plain": [
              "array(['able to', 'about it', 'all of', 'all the', 'and dont', 'and have',\n",
              "       'and im', 'and it', 'and just', 'and my', 'and she', 'and that',\n",
              "       'and the', 'and then', 'at the', 'back to', 'because of', 'but im',\n",
              "       'but it', 'dont have', 'dont know', 'dont want', 'feel like',\n",
              "       'for me', 'for the', 'go to', 'going to', 'had to', 'have been',\n",
              "       'have no', 'have to', 'he was', 'how to', 'if you', 'im not',\n",
              "       'in my', 'in the', 'is the', 'it is', 'it was', 'ive been',\n",
              "       'kind of', 'know how', 'know what', 'lot of', 'me and', 'me to',\n",
              "       'my family', 'my friends', 'my life', 'my mom', 'my parents',\n",
              "       'need to', 'of my', 'of the', 'on my', 'on the', 'one of',\n",
              "       'out of', 'right now', 'she is', 'she was', 'so much', 'talk to',\n",
              "       'that im', 'that she', 'that was', 'the first', 'the last',\n",
              "       'the only', 'the same', 'the time', 'this is', 'to be', 'to do',\n",
              "       'to get', 'to go', 'to have', 'to her', 'to make', 'to me',\n",
              "       'to my', 'to say', 'to see', 'to talk', 'to the', 'told me',\n",
              "       'try to', 'trying to', 'used to', 'want to', 'wanted to',\n",
              "       'went to', 'what to', 'will be', 'with her', 'with me', 'with my',\n",
              "       'with the', 'would be'], dtype=object)"
            ]
          },
          "metadata": {},
          "execution_count": 63
        }
      ],
      "source": [
        "tfidf_vectorizer.get_feature_names_out()"
      ]
    },
    {
      "cell_type": "code",
      "execution_count": null,
      "metadata": {
        "id": "MhYMH9KbqfG1"
      },
      "outputs": [],
      "source": [
        "from sklearn.model_selection import train_test_split\n",
        "\n",
        "# split the dataset\n",
        "X_train, X_test, y_train, y_test = train_test_split(\n",
        "    X_train, y_train, test_size=0.3, random_state=0)"
      ]
    },
    {
      "cell_type": "markdown",
      "source": [
        "# MLP Classifier"
      ],
      "metadata": {
        "id": "3FCLsYR3wLbk"
      }
    },
    {
      "cell_type": "code",
      "source": [
        "from sklearn.neural_network import MLPClassifier\n",
        "\n",
        "mlp_classifier = MLPClassifier(hidden_layer_sizes=(64,32))\n",
        "model = mlp_classifier.fit(X_train, y_train)"
      ],
      "metadata": {
        "id": "kbfgpJjUIqxi"
      },
      "execution_count": null,
      "outputs": []
    },
    {
      "cell_type": "code",
      "source": [
        "predictions = model.predict(X_test)"
      ],
      "metadata": {
        "id": "AgHdL5e3JCIc"
      },
      "execution_count": null,
      "outputs": []
    },
    {
      "cell_type": "code",
      "source": [
        "predictions"
      ],
      "metadata": {
        "colab": {
          "base_uri": "https://localhost:8080/"
        },
        "id": "XJisou4MJUQM",
        "outputId": "a7cf84d1-8695-450d-f85d-da2e6f419648"
      },
      "execution_count": null,
      "outputs": [
        {
          "output_type": "execute_result",
          "data": {
            "text/plain": [
              "array(['N', 'Y', 'N', ..., 'N', 'Y', 'N'], dtype='<U1')"
            ]
          },
          "metadata": {},
          "execution_count": 91
        }
      ]
    },
    {
      "cell_type": "code",
      "source": [
        "from sklearn.metrics import accuracy_score\n",
        "\n",
        "accuracy_score(predictions, y_test)"
      ],
      "metadata": {
        "colab": {
          "base_uri": "https://localhost:8080/"
        },
        "id": "uzIwqu5IJWQX",
        "outputId": "f2a9ed72-9d27-4679-9832-1c3895cc9baf"
      },
      "execution_count": null,
      "outputs": [
        {
          "output_type": "execute_result",
          "data": {
            "text/plain": [
              "0.9212328767123288"
            ]
          },
          "metadata": {},
          "execution_count": 92
        }
      ]
    },
    {
      "cell_type": "code",
      "source": [
        "  from sklearn.model_selection import GridSearchCV\n",
        "\n",
        "param_grid = {\n",
        "    'hidden_layer_sizes': [(100,), (50, 50), (100, 50)],\n",
        "    'activation': ['relu', 'tanh'],\n",
        "    'max_iter': [500, 1000],\n",
        "}\n",
        "\n",
        "grid_search = GridSearchCV(mlp_classifier, param_grid, cv=3, verbose=2, n_jobs=-1)\n",
        "\n",
        "grid_search.fit(X_train, y_train)\n",
        "\n",
        "best_estimator = grid_search.best_estimator_\n",
        "\n",
        "y_pred = best_estimator.predict(X_test)\n",
        "\n",
        "accuracy_score(y_pred, y_test)"
      ],
      "metadata": {
        "colab": {
          "base_uri": "https://localhost:8080/"
        },
        "id": "Ywa4Ue1fJguz",
        "outputId": "b83dd66f-4a6a-4f27-f802-5cf301b3ca3f"
      },
      "execution_count": null,
      "outputs": [
        {
          "output_type": "stream",
          "name": "stdout",
          "text": [
            "Fitting 3 folds for each of 12 candidates, totalling 36 fits\n"
          ]
        },
        {
          "output_type": "execute_result",
          "data": {
            "text/plain": [
              "0.923972602739726"
            ]
          },
          "metadata": {},
          "execution_count": 93
        }
      ]
    },
    {
      "cell_type": "code",
      "source": [
        "from sklearn.metrics import classification_report\n",
        "\n",
        "print(classification_report(y_pred,y_test, labels = ['Y','N']))"
      ],
      "metadata": {
        "colab": {
          "base_uri": "https://localhost:8080/"
        },
        "id": "5tFb0FDVKjmc",
        "outputId": "696c43f1-32c9-4569-c944-78800bc60e56"
      },
      "execution_count": null,
      "outputs": [
        {
          "output_type": "stream",
          "name": "stdout",
          "text": [
            "              precision    recall  f1-score   support\n",
            "\n",
            "           Y       0.93      0.92      0.92       715\n",
            "           N       0.92      0.93      0.93       745\n",
            "\n",
            "    accuracy                           0.92      1460\n",
            "   macro avg       0.92      0.92      0.92      1460\n",
            "weighted avg       0.92      0.92      0.92      1460\n",
            "\n"
          ]
        }
      ]
    },
    {
      "cell_type": "markdown",
      "source": [
        "# SVM Classifier"
      ],
      "metadata": {
        "id": "sAOJTNIkwdM0"
      }
    },
    {
      "cell_type": "code",
      "source": [
        "from sklearn.svm import SVC\n",
        "from sklearn.pipeline import make_pipeline\n",
        "from sklearn.preprocessing import StandardScaler\n",
        "\n",
        "svm_classifier = make_pipeline(StandardScaler(), SVC(gamma='auto'))\n",
        "\n",
        "svm_classifier.fit(X_train, y_train)"
      ],
      "metadata": {
        "colab": {
          "base_uri": "https://localhost:8080/",
          "height": 125
        },
        "id": "zSH8R_GJwcFX",
        "outputId": "680cd6e5-3df1-4397-c458-3a5b6dfc004e"
      },
      "execution_count": null,
      "outputs": [
        {
          "output_type": "execute_result",
          "data": {
            "text/plain": [
              "Pipeline(steps=[('standardscaler', StandardScaler()),\n",
              "                ('svc', SVC(gamma='auto'))])"
            ],
            "text/html": [
              "<style>#sk-container-id-1 {color: black;background-color: white;}#sk-container-id-1 pre{padding: 0;}#sk-container-id-1 div.sk-toggleable {background-color: white;}#sk-container-id-1 label.sk-toggleable__label {cursor: pointer;display: block;width: 100%;margin-bottom: 0;padding: 0.3em;box-sizing: border-box;text-align: center;}#sk-container-id-1 label.sk-toggleable__label-arrow:before {content: \"▸\";float: left;margin-right: 0.25em;color: #696969;}#sk-container-id-1 label.sk-toggleable__label-arrow:hover:before {color: black;}#sk-container-id-1 div.sk-estimator:hover label.sk-toggleable__label-arrow:before {color: black;}#sk-container-id-1 div.sk-toggleable__content {max-height: 0;max-width: 0;overflow: hidden;text-align: left;background-color: #f0f8ff;}#sk-container-id-1 div.sk-toggleable__content pre {margin: 0.2em;color: black;border-radius: 0.25em;background-color: #f0f8ff;}#sk-container-id-1 input.sk-toggleable__control:checked~div.sk-toggleable__content {max-height: 200px;max-width: 100%;overflow: auto;}#sk-container-id-1 input.sk-toggleable__control:checked~label.sk-toggleable__label-arrow:before {content: \"▾\";}#sk-container-id-1 div.sk-estimator input.sk-toggleable__control:checked~label.sk-toggleable__label {background-color: #d4ebff;}#sk-container-id-1 div.sk-label input.sk-toggleable__control:checked~label.sk-toggleable__label {background-color: #d4ebff;}#sk-container-id-1 input.sk-hidden--visually {border: 0;clip: rect(1px 1px 1px 1px);clip: rect(1px, 1px, 1px, 1px);height: 1px;margin: -1px;overflow: hidden;padding: 0;position: absolute;width: 1px;}#sk-container-id-1 div.sk-estimator {font-family: monospace;background-color: #f0f8ff;border: 1px dotted black;border-radius: 0.25em;box-sizing: border-box;margin-bottom: 0.5em;}#sk-container-id-1 div.sk-estimator:hover {background-color: #d4ebff;}#sk-container-id-1 div.sk-parallel-item::after {content: \"\";width: 100%;border-bottom: 1px solid gray;flex-grow: 1;}#sk-container-id-1 div.sk-label:hover label.sk-toggleable__label {background-color: #d4ebff;}#sk-container-id-1 div.sk-serial::before {content: \"\";position: absolute;border-left: 1px solid gray;box-sizing: border-box;top: 0;bottom: 0;left: 50%;z-index: 0;}#sk-container-id-1 div.sk-serial {display: flex;flex-direction: column;align-items: center;background-color: white;padding-right: 0.2em;padding-left: 0.2em;position: relative;}#sk-container-id-1 div.sk-item {position: relative;z-index: 1;}#sk-container-id-1 div.sk-parallel {display: flex;align-items: stretch;justify-content: center;background-color: white;position: relative;}#sk-container-id-1 div.sk-item::before, #sk-container-id-1 div.sk-parallel-item::before {content: \"\";position: absolute;border-left: 1px solid gray;box-sizing: border-box;top: 0;bottom: 0;left: 50%;z-index: -1;}#sk-container-id-1 div.sk-parallel-item {display: flex;flex-direction: column;z-index: 1;position: relative;background-color: white;}#sk-container-id-1 div.sk-parallel-item:first-child::after {align-self: flex-end;width: 50%;}#sk-container-id-1 div.sk-parallel-item:last-child::after {align-self: flex-start;width: 50%;}#sk-container-id-1 div.sk-parallel-item:only-child::after {width: 0;}#sk-container-id-1 div.sk-dashed-wrapped {border: 1px dashed gray;margin: 0 0.4em 0.5em 0.4em;box-sizing: border-box;padding-bottom: 0.4em;background-color: white;}#sk-container-id-1 div.sk-label label {font-family: monospace;font-weight: bold;display: inline-block;line-height: 1.2em;}#sk-container-id-1 div.sk-label-container {text-align: center;}#sk-container-id-1 div.sk-container {/* jupyter's `normalize.less` sets `[hidden] { display: none; }` but bootstrap.min.css set `[hidden] { display: none !important; }` so we also need the `!important` here to be able to override the default hidden behavior on the sphinx rendered scikit-learn.org. See: https://github.com/scikit-learn/scikit-learn/issues/21755 */display: inline-block !important;position: relative;}#sk-container-id-1 div.sk-text-repr-fallback {display: none;}</style><div id=\"sk-container-id-1\" class=\"sk-top-container\"><div class=\"sk-text-repr-fallback\"><pre>Pipeline(steps=[(&#x27;standardscaler&#x27;, StandardScaler()),\n",
              "                (&#x27;svc&#x27;, SVC(gamma=&#x27;auto&#x27;))])</pre><b>In a Jupyter environment, please rerun this cell to show the HTML representation or trust the notebook. <br />On GitHub, the HTML representation is unable to render, please try loading this page with nbviewer.org.</b></div><div class=\"sk-container\" hidden><div class=\"sk-item sk-dashed-wrapped\"><div class=\"sk-label-container\"><div class=\"sk-label sk-toggleable\"><input class=\"sk-toggleable__control sk-hidden--visually\" id=\"sk-estimator-id-1\" type=\"checkbox\" ><label for=\"sk-estimator-id-1\" class=\"sk-toggleable__label sk-toggleable__label-arrow\">Pipeline</label><div class=\"sk-toggleable__content\"><pre>Pipeline(steps=[(&#x27;standardscaler&#x27;, StandardScaler()),\n",
              "                (&#x27;svc&#x27;, SVC(gamma=&#x27;auto&#x27;))])</pre></div></div></div><div class=\"sk-serial\"><div class=\"sk-item\"><div class=\"sk-estimator sk-toggleable\"><input class=\"sk-toggleable__control sk-hidden--visually\" id=\"sk-estimator-id-2\" type=\"checkbox\" ><label for=\"sk-estimator-id-2\" class=\"sk-toggleable__label sk-toggleable__label-arrow\">StandardScaler</label><div class=\"sk-toggleable__content\"><pre>StandardScaler()</pre></div></div></div><div class=\"sk-item\"><div class=\"sk-estimator sk-toggleable\"><input class=\"sk-toggleable__control sk-hidden--visually\" id=\"sk-estimator-id-3\" type=\"checkbox\" ><label for=\"sk-estimator-id-3\" class=\"sk-toggleable__label sk-toggleable__label-arrow\">SVC</label><div class=\"sk-toggleable__content\"><pre>SVC(gamma=&#x27;auto&#x27;)</pre></div></div></div></div></div></div></div>"
            ]
          },
          "metadata": {},
          "execution_count": 106
        }
      ]
    },
    {
      "cell_type": "code",
      "source": [
        "svm_predictions = svm_classifier.predict(X_test)\n",
        "\n",
        "print(classification_report(y_test,svm_predictions))\n",
        "\n",
        "accuracy_score(y_test,svm_predictions)"
      ],
      "metadata": {
        "colab": {
          "base_uri": "https://localhost:8080/"
        },
        "id": "bWth-KxWxQpg",
        "outputId": "e66824ca-0173-4806-b2ab-d72e33129798"
      },
      "execution_count": null,
      "outputs": [
        {
          "output_type": "stream",
          "name": "stdout",
          "text": [
            "              precision    recall  f1-score   support\n",
            "\n",
            "           N       0.93      0.97      0.95       750\n",
            "           Y       0.97      0.92      0.95       710\n",
            "\n",
            "    accuracy                           0.95      1460\n",
            "   macro avg       0.95      0.95      0.95      1460\n",
            "weighted avg       0.95      0.95      0.95      1460\n",
            "\n"
          ]
        },
        {
          "output_type": "execute_result",
          "data": {
            "text/plain": [
              "0.947945205479452"
            ]
          },
          "metadata": {},
          "execution_count": 110
        }
      ]
    },
    {
      "cell_type": "code",
      "source": [
        "# Do LIWC Only and Unigram and reemoving stopwords"
      ],
      "metadata": {
        "id": "2ygGiLkux_Nj"
      },
      "execution_count": null,
      "outputs": []
    }
  ],
  "metadata": {
    "colab": {
      "provenance": []
    },
    "kernelspec": {
      "display_name": "Python 3",
      "name": "python3"
    },
    "language_info": {
      "name": "python"
    }
  },
  "nbformat": 4,
  "nbformat_minor": 0
}